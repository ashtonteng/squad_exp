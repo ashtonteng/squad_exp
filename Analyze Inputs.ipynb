{
 "cells": [
  {
   "cell_type": "code",
   "execution_count": 1,
   "metadata": {},
   "outputs": [],
   "source": [
    "import os\n",
    "import pickle\n",
    "from utils import DataLoader\n",
    "import re\n",
    "import numpy as np\n",
    "working_dir = os.getcwd()\n",
    "data_dir = os.path.join(working_dir, \"data\")"
   ]
  },
  {
   "cell_type": "code",
   "execution_count": 2,
   "metadata": {
    "collapsed": true
   },
   "outputs": [],
   "source": [
    "#Note to Thursday me:\n",
    "#Start by making a vocab_dict {word: integer}, and map inputs into integer lists.\n",
    "#all glove words get an integer. All train data words get an integer if not already in glove\n",
    "#the word-integer mapping is done in the data_loader. \n",
    "#I got it! During next_batch(), get char-integer mapping + word-integer mapping.\n",
    "#If word is OOV, return dummy integer (set as 0?) as word-integer\n",
    "#Then use embedding_lookup on the embedding_mtx to get word representation\n",
    "#then send the integers that make up all these word to pretrained charRNN, get final states for each word for Char representation."
   ]
  },
  {
   "cell_type": "code",
   "execution_count": 3,
   "metadata": {},
   "outputs": [
    {
     "name": "stdout",
     "output_type": "stream",
     "text": [
      "loading preprocessed data...\n",
      "generating vocab from training data and glove...\n"
     ]
    }
   ],
   "source": [
    "dl = DataLoader(data_dir)"
   ]
  },
  {
   "cell_type": "code",
   "execution_count": 6,
   "metadata": {},
   "outputs": [
    {
     "ename": "KeyError",
     "evalue": "-1",
     "output_type": "error",
     "traceback": [
      "\u001b[1;31m---------------------------------------------------------------------------\u001b[0m",
      "\u001b[1;31mKeyError\u001b[0m                                  Traceback (most recent call last)",
      "\u001b[1;32m<ipython-input-6-e70941fec7b0>\u001b[0m in \u001b[0;36m<module>\u001b[1;34m()\u001b[0m\n\u001b[1;32m----> 1\u001b[1;33m \u001b[0mdl\u001b[0m\u001b[1;33m.\u001b[0m\u001b[0mintegers_words\u001b[0m\u001b[1;33m[\u001b[0m\u001b[1;33m-\u001b[0m\u001b[1;36m1\u001b[0m\u001b[1;33m]\u001b[0m\u001b[1;33m\u001b[0m\u001b[0m\n\u001b[0m",
      "\u001b[1;31mKeyError\u001b[0m: -1"
     ]
    }
   ],
   "source": [
    "dl.integers_words[\"<OOV>\""
   ]
  },
  {
   "cell_type": "code",
   "execution_count": null,
   "metadata": {
    "collapsed": true
   },
   "outputs": [],
   "source": [
    "\n",
    "        "
   ]
  },
  {
   "cell_type": "code",
   "execution_count": null,
   "metadata": {
    "collapsed": true
   },
   "outputs": [],
   "source": []
  },
  {
   "cell_type": "code",
   "execution_count": null,
   "metadata": {
    "collapsed": true
   },
   "outputs": [],
   "source": [
    "def LoadGloveEmbedding(glove_dir, glove_dim):\n",
    "    \"\"\"Load glove embeddings into a numpy array\"\"\"\n",
    "    vocab = []\n",
    "    embeddings = []\n",
    "    f = open(os.path.join(glove_dir, 'glove.6B.'+str(glove_dim)+'d.txt'), encoding=\"utf-8\")\n",
    "    for line in f:\n",
    "        row = line.strip().split(\" \")\n",
    "        vocab.append(row[0])\n",
    "        embeddings.append(row[1:])\n",
    "    print(\"loaded glove embeddings...\")\n",
    "    f.close()\n",
    "    return vocab, np.asarray(embeddings)"
   ]
  },
  {
   "cell_type": "code",
   "execution_count": null,
   "metadata": {
    "collapsed": true
   },
   "outputs": [],
   "source": [
    "vocab_dict, embedding = LoadGloveEmbedding(glove_dir, glove_dim)"
   ]
  },
  {
   "cell_type": "code",
   "execution_count": null,
   "metadata": {},
   "outputs": [],
   "source": [
    "inputs = \"hello my name is tree\".split(\" \")\n",
    "list(map(embedding.get, inputs))"
   ]
  },
  {
   "cell_type": "code",
   "execution_count": null,
   "metadata": {
    "collapsed": true
   },
   "outputs": [],
   "source": [
    "from tensorflow.contrib import learn\n",
    "#init vocab processor\n",
    "vocab_processor = learn.preprocessing.VocabularyProcessor(10)\n",
    "#fit the vocab from glove\n",
    "pretrain = vocab_processor.fit(vocab)\n",
    "#transform inputs\n",
    "\n",
    "x = np.array(list(vocab_processor.transform(inputs)))"
   ]
  },
  {
   "cell_type": "code",
   "execution_count": null,
   "metadata": {},
   "outputs": [],
   "source": [
    "x"
   ]
  },
  {
   "cell_type": "code",
   "execution_count": null,
   "metadata": {
    "collapsed": true
   },
   "outputs": [],
   "source": []
  },
  {
   "cell_type": "code",
   "execution_count": null,
   "metadata": {
    "collapsed": true
   },
   "outputs": [],
   "source": [
    "data = LoadJsonData(train_data)[\"data\"]"
   ]
  },
  {
   "cell_type": "code",
   "execution_count": null,
   "metadata": {
    "collapsed": true
   },
   "outputs": [],
   "source": [
    "glove_dim = 100\n",
    "glove_embedding = LoadGloveEmbedding(glove_dir, glove_dim)"
   ]
  },
  {
   "cell_type": "code",
   "execution_count": null,
   "metadata": {
    "collapsed": true
   },
   "outputs": [],
   "source": [
    "len(para_dict[max(para_dict, key=lambda x: len(para_dict[x]))]) #length of longest paragraph"
   ]
  },
  {
   "cell_type": "code",
   "execution_count": null,
   "metadata": {
    "collapsed": true
   },
   "outputs": [],
   "source": [
    "para_dict, para_to_qa_dict, qa_data_dict = ParseJsonData(data)\n",
    "#para_dict = {paraID: [list of words in paragraph]}\n",
    "#para_to_qa_dict = {paraID: [list of qaIDs associated with paragraph]}\n",
    "#qa_data_dict = {qaID: (paraID, list of words in question, answer_start_index, answer_end_index)}\n",
    "para_glove_dict = GetGloveRepresentation(para_dict, glove_embedding, 100)"
   ]
  },
  {
   "cell_type": "code",
   "execution_count": null,
   "metadata": {
    "collapsed": true
   },
   "outputs": [],
   "source": [
    "#for batch in all_batches:\n",
    "    #max_para_length = max(map(lambda paraID: len(para_dict[paraID]), batch)) #length of longest paragraph in this batch\n",
    "    #pad all shorter paragraphs to max_para_length, with special token '<pad>'"
   ]
  },
  {
   "cell_type": "code",
   "execution_count": null,
   "metadata": {
    "collapsed": true
   },
   "outputs": [],
   "source": [
    "\"\"\"Data Pipeline\n",
    "during testing:\n",
    "-load batches of data as WORDS, padded with special token\n",
    "-for words that are in vocab (we have a learned embedding), retrieve the associated INTEGER, \n",
    "and use INTEGER to do embedding_lookup. Then see if word has GLoVE embedding. If yes, add, if no add random.\n",
    "-for words that are not in vocab, replace with INTEGER 0. using 0 for embedding_lookup to retrieve\n",
    "the learned representation for general OOV words. If word has GLoVE embedding add, if no add zeros.\n",
    "\"\"\""
   ]
  },
  {
   "cell_type": "code",
   "execution_count": null,
   "metadata": {
    "collapsed": true
   },
   "outputs": [],
   "source": [
    "#TODO\n",
    "#integrate create and load of para_dict, para_to_qa_dict, qa_data_dict into DataLoader()\n",
    "#test data DataLoader()\n",
    "#do I need para_to_qa_dict?"
   ]
  },
  {
   "cell_type": "code",
   "execution_count": null,
   "metadata": {
    "collapsed": true
   },
   "outputs": [],
   "source": [
    "\"\"\"Train.py\"\"\"\n",
    "data_dir = os.path.join(working_dir, \"data\")\n",
    "data_loader = DataLoader(data_dir, batch_size=10, training=True)"
   ]
  },
  {
   "cell_type": "code",
   "execution_count": null,
   "metadata": {
    "collapsed": true
   },
   "outputs": [],
   "source": [
    "len(data_loader.qa_data_dict[max(data_loader.qa_data_dict, key=lambda qaID: len(data_loader.qa_data_dict[qaID][1]))][1])"
   ]
  },
  {
   "cell_type": "code",
   "execution_count": null,
   "metadata": {
    "collapsed": true
   },
   "outputs": [],
   "source": [
    "data_loader.create_batches()"
   ]
  },
  {
   "cell_type": "code",
   "execution_count": null,
   "metadata": {
    "collapsed": true
   },
   "outputs": [],
   "source": [
    "data_loader.next_batch()"
   ]
  },
  {
   "cell_type": "code",
   "execution_count": null,
   "metadata": {
    "collapsed": true
   },
   "outputs": [],
   "source": []
  },
  {
   "cell_type": "code",
   "execution_count": null,
   "metadata": {
    "collapsed": true
   },
   "outputs": [],
   "source": []
  },
  {
   "cell_type": "code",
   "execution_count": null,
   "metadata": {
    "collapsed": true
   },
   "outputs": [],
   "source": []
  },
  {
   "cell_type": "code",
   "execution_count": null,
   "metadata": {
    "collapsed": true
   },
   "outputs": [],
   "source": []
  },
  {
   "cell_type": "code",
   "execution_count": null,
   "metadata": {
    "collapsed": true
   },
   "outputs": [],
   "source": []
  },
  {
   "cell_type": "code",
   "execution_count": null,
   "metadata": {
    "collapsed": true
   },
   "outputs": [],
   "source": []
  }
 ],
 "metadata": {
  "kernelspec": {
   "display_name": "Python 3",
   "language": "python",
   "name": "python3"
  },
  "language_info": {
   "codemirror_mode": {
    "name": "ipython",
    "version": 3
   },
   "file_extension": ".py",
   "mimetype": "text/x-python",
   "name": "python",
   "nbconvert_exporter": "python",
   "pygments_lexer": "ipython3",
   "version": "3.5.3"
  }
 },
 "nbformat": 4,
 "nbformat_minor": 2
}
