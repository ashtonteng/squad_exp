{
 "cells": [
  {
   "cell_type": "markdown",
   "metadata": {},
   "source": [
    "**Read Raw Data**"
   ]
  },
  {
   "cell_type": "code",
   "execution_count": 36,
   "metadata": {
    "collapsed": true
   },
   "outputs": [],
   "source": [
    "import json\n",
    "import re\n",
    "import numpy as np\n",
    "from squad_utils import LoadJsonData, DumpJsonPrediction\n",
    "from squad_utils import TextToSentence, SentenceToWord\n",
    "import os\n",
    "working_dir = os.getcwd()\n",
    "data_dir = os.path.join(working_dir, \"data\")\n",
    "train_data_dir = os.path.join(data_dir, \"train-v1.1.json\")\n",
    "test_data_dir = os.path.join(data_dir, \"test-v1.1.json\")"
   ]
  },
  {
   "cell_type": "code",
   "execution_count": 37,
   "metadata": {
    "collapsed": true
   },
   "outputs": [],
   "source": [
    "data = LoadJsonData(data_dir)[\"data\"]"
   ]
  },
  {
   "cell_type": "code",
   "execution_count": 48,
   "metadata": {
    "collapsed": true
   },
   "outputs": [],
   "source": [
    "def ParseJsonData(data):\n",
    "    #each paraID is a string composed of article title + number\n",
    "    para_dict = dict() #{paraID: [list of words in paragraph]}\n",
    "    para_to_qa_dict = dict() #{paraID: [list of qaIDs associated with paragraph]}\n",
    "    qa_data_dict = dict() #{qaID: (paraID, list of words in question, answer_start_index, answer_end_index)}\n",
    "    for article in data:\n",
    "        #build para_dict\n",
    "        for idx, paragraph in enumerate(article[\"paragraphs\"]):\n",
    "            paraID = article['title'] + \"_\" + str(idx).zfill(4) #reformat number to 4 digits\n",
    "            words = [x for x in re.split('(\\W)', paragraph[\"context\"].strip().lower()) if x and x != \" \"]\n",
    "            para_dict[paraID] = words\n",
    "            for qa in paragraph[\"qas\"]:\n",
    "                qaID = qa[\"id\"]\n",
    "                try:\n",
    "                    para_to_qa_dict[paraID].append(qaID)\n",
    "                except:\n",
    "                    para_to_qa_dict[paraID] = [qaID]\n",
    "                q_words = [x for x in re.split('(\\W)', qa[\"question\"].strip().lower()) if x and x != \" \"]\n",
    "                start_index = qa[\"answers\"][0][\"answer_start\"] #there are multiples answers. choose the first one.\n",
    "                end_index = start_index + len(qa[\"answers\"][0][\"text\"]) - 1\n",
    "                qa_data_dict[qaID] = (paraID, q_words, start_index, end_index)     \n",
    "    return para_dict, para_to_qa_dict, qa_data_dict\n",
    "\n",
    "def GetGloveRepresentation(para_dict, embedding, dim):\n",
    "    para_glove_dict = dict()\n",
    "    for paraID in para_dict:\n",
    "        words = para_dict[paraID]\n",
    "        glove_words = []\n",
    "        for word in words:\n",
    "            try:\n",
    "                glove_word = embedding[word]\n",
    "            except: #this word is not in glove, replace with zeros\n",
    "                glove_word = np.zeros((dim,), dtype=\"float32\")\n",
    "            glove_words.append(glove_word)\n",
    "        para_glove_dict[paraID] = glove_words\n",
    "    return para_glove_dict #{paraID: [list of words in paragraph with glove representation]}"
   ]
  },
  {
   "cell_type": "code",
   "execution_count": null,
   "metadata": {
    "collapsed": true
   },
   "outputs": [],
   "source": [
    "\"\"\"Load GloVE embeddings into dictionary\"\"\"\n",
    "embedding = {}\n",
    "f = open(os.path.join(working_dir, \"glove\", 'glove.6B.100d.txt'), encoding=\"utf-8\")\n",
    "for line in f:\n",
    "    values = line.split()\n",
    "    word = values[0]\n",
    "    coefs = np.asarray(values[1:], dtype='float32')\n",
    "    embedding[word] = coefs\n",
    "f.close()"
   ]
  },
  {
   "cell_type": "code",
   "execution_count": 49,
   "metadata": {
    "collapsed": true
   },
   "outputs": [],
   "source": [
    "para_dict, para_to_qa_dict, qa_data_dict = ParseJsonData(data)\n",
    "para_glove_dict = GetGloveRepresentation(para_dict, embedding, 100)"
   ]
  },
  {
   "cell_type": "code",
   "execution_count": 54,
   "metadata": {},
   "outputs": [
    {
     "data": {
      "text/plain": [
       "True"
      ]
     },
     "execution_count": 54,
     "metadata": {},
     "output_type": "execute_result"
    }
   ],
   "source": [
    "len(para_glove_dict['American_Idol_0100']) == len(para_dict['American_Idol_0100'])"
   ]
  },
  {
   "cell_type": "markdown",
   "metadata": {},
   "source": [
    "**Get all words in passages and questions for Char-RNN**"
   ]
  },
  {
   "cell_type": "code",
   "execution_count": null,
   "metadata": {
    "collapsed": true
   },
   "outputs": [],
   "source": [
    "with open(\"all_passages.txt\", \"w\", encoding=\"utf-8\") as file:\n",
    "    for article in data:\n",
    "        for paragraph in article[\"paragraphs\"]:\n",
    "            file.write(paragraph[\"context\"] + \" \")"
   ]
  },
  {
   "cell_type": "code",
   "execution_count": null,
   "metadata": {
    "collapsed": true
   },
   "outputs": [],
   "source": [
    "with open(\"all_questions.txt\", \"w\", encoding=\"utf-8\") as file:\n",
    "    for article in data:\n",
    "        for paragraph in article[\"paragraphs\"]:\n",
    "            for qa in paragraph[\"qas\"]:\n",
    "                file.write(qa[\"question\"] + \" \")"
   ]
  },
  {
   "cell_type": "markdown",
   "metadata": {},
   "source": [
    "**Split files so that each datapoint is Question-Passage-Answer**"
   ]
  },
  {
   "cell_type": "code",
   "execution_count": null,
   "metadata": {
    "collapsed": true
   },
   "outputs": [],
   "source": []
  },
  {
   "cell_type": "code",
   "execution_count": null,
   "metadata": {
    "collapsed": true
   },
   "outputs": [],
   "source": []
  },
  {
   "cell_type": "code",
   "execution_count": null,
   "metadata": {
    "collapsed": true
   },
   "outputs": [],
   "source": []
  },
  {
   "cell_type": "code",
   "execution_count": null,
   "metadata": {
    "collapsed": true
   },
   "outputs": [],
   "source": []
  },
  {
   "cell_type": "code",
   "execution_count": null,
   "metadata": {
    "collapsed": true
   },
   "outputs": [],
   "source": []
  },
  {
   "cell_type": "code",
   "execution_count": null,
   "metadata": {
    "collapsed": true
   },
   "outputs": [],
   "source": []
  },
  {
   "cell_type": "code",
   "execution_count": null,
   "metadata": {
    "collapsed": true
   },
   "outputs": [],
   "source": [
    "\"\"\"\n",
    "data structure:\n",
    "\n",
    "data {\n",
    "    data {\n",
    "        paragraphs {\n",
    "            qas {\n",
    "                answers {\n",
    "                    answer_start #starting position\n",
    "                    text #actual answer\n",
    "                }\n",
    "                id\n",
    "                question\n",
    "            }\n",
    "            context\n",
    "        }\n",
    "        title\n",
    "    }\n",
    "    version\n",
    "}\n",
    "\"\"\""
   ]
  }
 ],
 "metadata": {
  "kernelspec": {
   "display_name": "Python 3",
   "language": "python",
   "name": "python3"
  },
  "language_info": {
   "codemirror_mode": {
    "name": "ipython",
    "version": 3
   },
   "file_extension": ".py",
   "mimetype": "text/x-python",
   "name": "python",
   "nbconvert_exporter": "python",
   "pygments_lexer": "ipython3",
   "version": "3.5.3"
  }
 },
 "nbformat": 4,
 "nbformat_minor": 2
}
